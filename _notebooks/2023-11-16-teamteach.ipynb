{
 "cells": [
  {
   "cell_type": "markdown",
   "metadata": {},
   "source": [
    "## Crowdsourcing\n",
    "\n",
    "![Crowdsourcing Image](https://edison365.com/wp-content/uploads/2022/03/What-is-Crowdsourcing.png)\n",
    "\n",
    "Crowdsourcing is the action of acquiring work and information from a large group of people via the internet. This information can be obtained from social media and other forms of media throughout the internet. Crowdsourcing allows companies to work with people throughout the world and acquire a variety of different skills.\n",
    "\n",
    "## Variations of Crowdsourcing\n",
    "\n",
    "Idea Generation: Seeking ideas and suggestions from the crowd to solve a problem or improve a product.\n",
    "\n",
    "Microtasks: Breaking down a large task into smaller, manageable microtasks that can be distributed to a crowd.\n",
    "\n",
    "Funding: Crowdfunding platforms, where a crowd financially supports projects, products, or causes.\n",
    "\n",
    "Data Collection: Gathering and analyzing data through contributions from a large number of individuals.\n",
    "\n",
    "Open Innovation: Involving external contributors in the innovation process of a company.\n",
    "\n",
    "## Benefits of Crowdsourcing\n",
    "\n",
    "Crowdsourcing is cost-efficient because it allows access to talented workers without the need for a traditional workforce. Also, projects and work can be completed in a lesser amount of time due to the many contributors. Finally, the diversity of contributors can lead to innovative ideas and solutions that may not have emerged in a traditional setting.\n",
    "\n",
    "# Example of Crowdsourcing\n",
    "\n",
    "A well-known example of crowdsourcing is the website Wikipedia. Wikipedia is an online encyclopedia where anybody can contribute and add information onto the site.\n",
    "\n",
    "## Popcorn Hacks\n"
   ]
  }
 ],
 "metadata": {
  "language_info": {
   "name": "python"
  },
  "orig_nbformat": 4
 },
 "nbformat": 4,
 "nbformat_minor": 2
}
