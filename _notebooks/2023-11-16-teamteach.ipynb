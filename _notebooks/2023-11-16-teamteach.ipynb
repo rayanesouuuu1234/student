{
 "cells": [
  {
   "cell_type": "markdown",
   "metadata": {},
   "source": [
    "---\n",
    "comments: true\n",
    "layout: notebook\n",
    "title: Crowdsourcing Team Teach\n",
    "description:\n",
    "type: hacks\n",
    "courses: { compsci: {week: 0} }\n",
    "categories: [C4.1]\n",
    "---"
   ]
  },
  {
   "cell_type": "markdown",
   "metadata": {},
   "source": [
    "## Crowdsourcing\n",
    "\n",
    "![Crowdsourcing Image](https://edison365.com/wp-content/uploads/2022/03/What-is-Crowdsourcing.png)\n",
    "\n",
    "Crowdsourcing is the action of acquiring work and information from a large group of people via the internet. This information can be obtained from social media and other forms of media throughout the internet. Crowdsourcing allows companies to work with people throughout the world and acquire a variety of different skills.\n",
    "\n",
    "## Variations of Crowdsourcing\n",
    "\n",
    "Idea Generation: Seeking ideas and suggestions from the crowd to solve a problem or improve a product.\n",
    "\n",
    "Microtasks: Breaking down a large task into smaller, manageable microtasks that can be distributed to a crowd.\n",
    "\n",
    "Funding: Crowdfunding platforms, where a crowd financially supports projects, products, or causes.\n",
    "\n",
    "Data Collection: Gathering and analyzing data through contributions from a large number of individuals.\n",
    "\n",
    "Open Innovation: Involving external contributors in the innovation process of a company.\n",
    "\n",
    "## Benefits of Crowdsourcing\n",
    "\n",
    "Crowdsourcing is cost-efficient because it allows access to talented workers without the need for a traditional workforce. Also, projects and work can be completed in a lesser amount of time due to the many contributors. Finally, the diversity of contributors can lead to innovative ideas and solutions that may not have emerged in a traditional setting.\n",
    "\n",
    "# Example of Crowdsourcing\n",
    "\n",
    "A well-known example of crowdsourcing is the website Wikipedia. Wikipedia is an online encyclopedia where anybody can contribute and add information onto the site.\n",
    "\n",
    "## Popcorn Hacks\n",
    "\n"
   ]
  },
  {
   "cell_type": "code",
   "execution_count": null,
   "metadata": {
    "vscode": {
     "languageId": "html"
    }
   },
   "outputs": [],
   "source": [
    "<!DOCTYPE html>\n",
    "<html lang=\"en\">\n",
    "<head>\n",
    "    <meta charset=\"UTF-8\">\n",
    "    <meta http-equiv=\"X-UA-Compatible\" content=\"IE=edge\">\n",
    "    <meta name=\"viewport\" content=\"width=device-width, initial-scale=1.0\">\n",
    "    <title>Crowdsourcing Quiz</title>\n",
    "    <style>\n",
    "        body {\n",
    "            font-family: Arial, sans-serif;\n",
    "        }\n",
    "    </style>\n",
    "</head>\n",
    "<body>\n",
    "    <h1>Crowdsourcing Quiz</h1>\n",
    "    <p>Which of the following best defines crowdsourcing in the context of computer science principles?</p>\n",
    "    <form id=\"quizForm\">\n",
    "        <input type=\"radio\" name=\"answer\" value=\"A\"> A) A process of collecting data from a single, authoritative source.<br>\n",
    "        <input type=\"radio\" name=\"answer\" value=\"B\"> B) The use of computer algorithms to generate random data.<br>\n",
    "        <input type=\"radio\" name=\"answer\" value=\"C\"> C) Outsourcing tasks or obtaining information by soliciting contributions from a large group of people, typically online.<br>\n",
    "        <input type=\"radio\" name=\"answer\" value=\"D\"> D) The practice of limiting access to computer systems to a select group of individuals.<br><br>\n",
    "        <button type=\"button\" onclick=\"submitQuiz()\">Submit</button>\n",
    "    </form>\n",
    "\n",
    "    <script>\n",
    "        function submitQuiz() {\n",
    "            var selectedAnswer = document.querySelector('input[name=\"answer\"]:checked');\n",
    "            if (selectedAnswer) {\n",
    "                var userAnswer = selectedAnswer.value;\n",
    "                if (userAnswer === \"C\") {\n",
    "                    alert(\"Correct! Well done!\");\n",
    "                } else {\n",
    "                    alert(\"Incorrect. Please try again.\");\n",
    "                }\n",
    "            } else {\n",
    "                alert(\"Please select an answer before submitting.\");\n",
    "            }\n",
    "        }\n",
    "    </script>\n",
    "</body>\n",
    "</html>\n"
   ]
  }
 ],
 "metadata": {
  "kernelspec": {
   "display_name": "Python 3",
   "language": "python",
   "name": "python3"
  },
  "language_info": {
   "codemirror_mode": {
    "name": "ipython",
    "version": 3
   },
   "file_extension": ".py",
   "mimetype": "text/x-python",
   "name": "python",
   "nbconvert_exporter": "python",
   "pygments_lexer": "ipython3",
   "version": "3.11.4"
  },
  "orig_nbformat": 4
 },
 "nbformat": 4,
 "nbformat_minor": 2
}
