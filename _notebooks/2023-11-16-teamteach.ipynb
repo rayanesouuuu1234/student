{
 "cells": [
  {
   "cell_type": "markdown",
   "metadata": {},
   "source": [
    "---\n",
    "comments: true\n",
    "layout: notebook\n",
    "title: Crowdsourcing Team Teach\n",
    "description: \n",
    "type: hacks\n",
    "courses: { compsci: {week: 0} }\n",
    "categories: [C4.1]\n",
    "---"
   ]
  },
  {
   "cell_type": "markdown",
   "metadata": {},
   "source": [
    "## Crowdsourcing\n",
    "\n",
    "![Crowdsourcing Image](https://edison365.com/wp-content/uploads/2022/03/What-is-Crowdsourcing.png)\n",
    "\n",
    "Crowdsourcing is the action of acquiring work and information from a large group of people via the internet. This information can be obtained from social media and other forms of media throughout the internet. Crowdsourcing allows companies to work with people throughout the world and acquire a variety of different skills.\n",
    "\n",
    "## Variations of Crowdsourcing\n",
    "\n",
    "Idea Generation: Seeking ideas and suggestions from the crowd to solve a problem or improve a product.\n",
    "\n",
    "Microtasks: Breaking down a large task into smaller, manageable microtasks that can be distributed to a crowd.\n",
    "\n",
    "Funding: Crowdfunding platforms, where a crowd financially supports projects, products, or causes.\n",
    "\n",
    "Data Collection: Gathering and analyzing data through contributions from a large number of individuals.\n",
    "\n",
    "Open Innovation: Involving external contributors in the innovation process of a company.\n",
    "\n",
    "## Benefits of Crowdsourcing\n",
    "\n",
    "Crowdsourcing is cost-efficient because it allows access to talented workers without the need for a traditional workforce. Also, projects and work can be completed in a lesser amount of time due to the many contributors. Finally, the diversity of contributors can lead to innovative ideas and solutions that may not have emerged in a traditional setting.\n",
    "\n",
    "# Example of Crowdsourcing\n",
    "\n",
    "A well-known example of crowdsourcing is the website Wikipedia. Wikipedia is an online encyclopedia where anybody can contribute and add information onto the site.\n",
    "\n",
    "## Popcorn Hacks\n",
    "1) Which of the following best defines crowdsourcing?\n",
    "\n",
    "A) A process of collecting data from a single, authoritative source.  \n",
    "B) The use of computer algorithms to generate random data.  \n",
    "C) Outsourcing tasks or obtaining information by soliciting contributions from a large group of people, typically online.  \n",
    "D) The practice of limiting access to computer systems to a select group of individuals.\n",
    "\n",
    "2) What is a common example of crowdsourcing in the digital age?\n",
    "\n",
    "A) Gathering information through a single expert interview.  \n",
    "B) Using machine learning algorithms to analyze data.  \n",
    "C) Outsourcing a project to a specialized company.  \n",
    "D) Collecting public opinions through online surveys or polls.\n",
    "\n",
    "## Homework\n",
    "### Question 1:\n",
    "Explain the concept of crowdsourcing. Provide examples of how it is commonly used in different fields.\n",
    "\n",
    "### Question 2:\n",
    "Discuss the benefits and challenges associated with crowdsourcing. How can organizations effectively harness the power of crowdsourcing while mitigating potential drawbacks?\n",
    "\n",
    "### Question 3:\n",
    "Identify a real-world example of a successful crowdsourcing project. Explain the project, its goals, and the positive outcomes achieved through the collaboration of a large group of people.\n",
    "\n",
    "### Question 4:\n",
    "Create a hypothetical scenario where crowdsourcing could be applied to solve a specific problem. Describe the problem, the type of contributions you would seek from the crowd, and the potential impact of implementing the crowdsourced solution.\n",
    "\n",
    "\n",
    "\n"
   ]
  }
 ],
 "metadata": {
  "kernelspec": {
   "display_name": "Python 3",
   "language": "python",
   "name": "python3"
  },
  "language_info": {
   "codemirror_mode": {
    "name": "ipython",
    "version": 3
   },
   "file_extension": ".py",
   "mimetype": "text/x-python",
   "name": "python",
   "nbconvert_exporter": "python",
   "pygments_lexer": "ipython3",
   "version": "3.11.4"
  },
  "orig_nbformat": 4
 },
 "nbformat": 4,
 "nbformat_minor": 2
}
