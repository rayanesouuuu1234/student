{
 "cells": [
  {
   "cell_type": "markdown",
   "metadata": {},
   "source": [
    "---\n",
    "toc: true\n",
    "comments: true\n",
    "layout: \n",
    "title: Frontend design\n",
    "description: front end login\n",
    "type: hacks\n",
    "courses: { csse: {week: 1}, csp: {week: 1, categories: [4.A]}, csa: {week: 0} }\n",
    "---"
   ]
  },
  {
   "cell_type": "code",
   "execution_count": null,
   "metadata": {
    "vscode": {
     "languageId": "html"
    }
   },
   "outputs": [],
   "source": [
    "<!DOCTYPE html>\n",
    "<html lang=\"en\" dir=\"ltr\">\n",
    "  <head>\n",
    "    <meta charset=\"utf-8\">\n",
    "    <link rel=\"stylesheet\" href=\"style.css\">\n",
    "  </head>\n",
    "  <body>\n",
    "    <div class=\"center\">\n",
    "      <h1>Login</h1>\n",
    "      <form method=\"post\">\n",
    "        <div class=\"txt_field\">\n",
    "          <input type=\"text\" required>\n",
    "          <span></span>\n",
    "          <label>Username</label>\n",
    "        </div>\n",
    "        <div class=\"txt_field\">\n",
    "          <input type=\"password\" required>\n",
    "          <span></span>\n",
    "          <label>Password</label>\n",
    "        </div>\n",
    "        <div class=\"pass\">Forgot Password?</div>\n",
    "        <input type=\"submit\" value=\"Login\">\n",
    "        <div class=\"signup_link\">\n",
    "          Not a member? <a href=\"#\">Signup</a>\n",
    "        </div>\n",
    "      </form>\n",
    "    </div>\n",
    "  </body>\n",
    "</html>"
   ]
  }
 ],
 "metadata": {
  "language_info": {
   "name": "python"
  },
  "orig_nbformat": 4
 },
 "nbformat": 4,
 "nbformat_minor": 2
}
