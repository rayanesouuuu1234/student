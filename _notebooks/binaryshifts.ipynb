{
 "cells": [
  {
   "cell_type": "markdown",
   "metadata": {},
   "source": [
    "---\n",
    "comments: true\n",
    "layout: notebook\n",
    "title: Binary Shifts\n",
    "description: \n",
    "type: hacks\n",
    "toc: true\n",
    "courses: { csse: {week: 0}, csp: {week: 1}, csa: {week: 0} }\n",
    "categories: [C4.1]\n",
    "---"
   ]
  },
  {
   "cell_type": "code",
   "execution_count": 1,
   "metadata": {
    "vscode": {
     "languageId": "html"
    }
   },
   "outputs": [
    {
     "data": {
      "text/html": [
       "<html>\n",
       "<head>\n",
       "    <title>Binary Shifting Demo</title>\n",
       "    <script>\n",
       "        // JavaScript function to perform binary shifting\n",
       "        function performShift() {\n",
       "            // Read input values from the form\n",
       "            var inputNumber = parseInt(document.getElementById('inputNumber').value);\n",
       "            var shiftAmount = parseInt(document.getElementById('shiftAmount').value);\n",
       "            var shiftDirection = document.querySelector('input[name=\"shiftDirection\"]:checked').value;\n",
       "\n",
       "            var result;\n",
       "            // Perform the shifting operation\n",
       "            if (shiftDirection === 'left') {\n",
       "                result = inputNumber << shiftAmount;\n",
       "            } else {\n",
       "                result = inputNumber >> shiftAmount;\n",
       "            }\n",
       "\n",
       "            // Display the result\n",
       "            document.getElementById('result').innerText = 'Result: ' + result.toString(2);\n",
       "        }\n",
       "    </script>\n",
       "</head>\n",
       "<body>\n",
       "    <h2>Binary Shifting Demo</h2>\n",
       "    <p>This demo shows how binary shifting works. Enter a number, choose a shift direction, and see the result.</p>\n",
       "    \n",
       "    <!-- User input for the number to shift -->\n",
       "    <label for=\"inputNumber\">Enter a number to shift:</label>\n",
       "    <input type=\"number\" id=\"inputNumber\" placeholder=\"Enter a number\" />\n",
       "    \n",
       "    <!-- User input for the shift amount -->\n",
       "    <label for=\"shiftAmount\">Enter shift amount:</label>\n",
       "    <input type=\"number\" id=\"shiftAmount\" placeholder=\"Shift amount\" />\n",
       "\n",
       "    <p>Select the direction of the shift:</p>\n",
       "    <div>\n",
       "        <!-- Option to choose left shift -->\n",
       "        <input type=\"radio\" id=\"leftShift\" name=\"shiftDirection\" value=\"left\" checked>\n",
       "        <label for=\"leftShift\">Left Shift (<<)</label>\n",
       "\n",
       "        <!-- Option to choose right shift -->\n",
       "        <input type=\"radio\" id=\"rightShift\" name=\"shiftDirection\" value=\"right\">\n",
       "        <label for=\"rightShift\">Right Shift (>>)</label>\n",
       "    </div>\n",
       "    \n",
       "    <!-- Button to perform the shift -->\n",
       "    <button onclick=\"performShift()\">Shift</button>\n",
       "\n",
       "    <!-- Display the result of the shift -->\n",
       "    <p id=\"result\"></p>\n",
       "</body>\n",
       "</html>\n"
      ],
      "text/plain": [
       "<IPython.core.display.HTML object>"
      ]
     },
     "metadata": {},
     "output_type": "display_data"
    }
   ],
   "source": [
    "%%html\n",
    "<html>\n",
    "<head>\n",
    "    <title>Binary Shifting Demo</title>\n",
    "    <script>\n",
    "        // JavaScript function to perform binary shifting\n",
    "        function performShift() {\n",
    "            // Read input values from the form\n",
    "            var inputNumber = parseInt(document.getElementById('inputNumber').value);\n",
    "            var shiftAmount = parseInt(document.getElementById('shiftAmount').value);\n",
    "            var shiftDirection = document.querySelector('input[name=\"shiftDirection\"]:checked').value;\n",
    "\n",
    "            var result;\n",
    "            // Perform the shifting operation\n",
    "            if (shiftDirection === 'left') {\n",
    "                result = inputNumber << shiftAmount;\n",
    "            } else {\n",
    "                result = inputNumber >> shiftAmount;\n",
    "            }\n",
    "\n",
    "            // Display the result\n",
    "            document.getElementById('result').innerText = 'Result: ' + result.toString(2);\n",
    "        }\n",
    "    </script>\n",
    "</head>\n",
    "<body>\n",
    "    <h2>Binary Shifting Demo</h2>\n",
    "    <p>This demo shows how binary shifting works. Enter a number, choose a shift direction, and see the result.</p>\n",
    "    \n",
    "    <!-- User input for the number to shift -->\n",
    "    <label for=\"inputNumber\">Enter a number to shift:</label>\n",
    "    <input type=\"number\" id=\"inputNumber\" placeholder=\"Enter a number\" />\n",
    "    \n",
    "    <!-- User input for the shift amount -->\n",
    "    <label for=\"shiftAmount\">Enter shift amount:</label>\n",
    "    <input type=\"number\" id=\"shiftAmount\" placeholder=\"Shift amount\" />\n",
    "\n",
    "    <p>Select the direction of the shift:</p>\n",
    "    <div>\n",
    "        <!-- Option to choose left shift -->\n",
    "        <input type=\"radio\" id=\"leftShift\" name=\"shiftDirection\" value=\"left\" checked>\n",
    "        <label for=\"leftShift\">Left Shift (<<)</label>\n",
    "\n",
    "        <!-- Option to choose right shift -->\n",
    "        <input type=\"radio\" id=\"rightShift\" name=\"shiftDirection\" value=\"right\">\n",
    "        <label for=\"rightShift\">Right Shift (>>)</label>\n",
    "    </div>\n",
    "    \n",
    "    <!-- Button to perform the shift -->\n",
    "    <button onclick=\"performShift()\">Shift</button>\n",
    "\n",
    "    <!-- Display the result of the shift -->\n",
    "    <p id=\"result\"></p>\n",
    "</body>\n",
    "</html>"
   ]
  }
 ],
 "metadata": {
  "kernelspec": {
   "display_name": "Python 3",
   "language": "python",
   "name": "python3"
  },
  "language_info": {
   "codemirror_mode": {
    "name": "ipython",
    "version": 3
   },
   "file_extension": ".py",
   "mimetype": "text/x-python",
   "name": "python",
   "nbconvert_exporter": "python",
   "pygments_lexer": "ipython3",
   "version": "3.9.6"
  }
 },
 "nbformat": 4,
 "nbformat_minor": 2
}
